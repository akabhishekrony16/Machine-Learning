{
 "cells": [
  {
   "cell_type": "markdown",
   "metadata": {},
   "source": [
    "# k-means Algorithm"
   ]
  },
  {
   "cell_type": "code",
   "execution_count": 1,
   "metadata": {
    "collapsed": true
   },
   "outputs": [],
   "source": [
    "import numpy as np\n",
    "import pandas as pd\n",
    "from pandas import Series,DataFrame\n",
    "import matplotlib.pyplot as plt\n",
    "%matplotlib inline"
   ]
  },
  {
   "cell_type": "code",
   "execution_count": 8,
   "metadata": {
    "collapsed": false
   },
   "outputs": [],
   "source": [
    "#using the isis dataset\n",
    "dat=pd.read_csv('C:/Users/HP/Desktop/iris.csv')"
   ]
  },
  {
   "cell_type": "code",
   "execution_count": 9,
   "metadata": {
    "collapsed": false
   },
   "outputs": [
    {
     "data": {
      "text/html": [
       "<div>\n",
       "<table border=\"1\" class=\"dataframe\">\n",
       "  <thead>\n",
       "    <tr style=\"text-align: right;\">\n",
       "      <th></th>\n",
       "      <th>Petal.Length</th>\n",
       "      <th>Petal.Width</th>\n",
       "      <th>Species</th>\n",
       "    </tr>\n",
       "  </thead>\n",
       "  <tbody>\n",
       "    <tr>\n",
       "      <th>0</th>\n",
       "      <td>1.4</td>\n",
       "      <td>0.2</td>\n",
       "      <td>setosa</td>\n",
       "    </tr>\n",
       "    <tr>\n",
       "      <th>1</th>\n",
       "      <td>1.4</td>\n",
       "      <td>0.2</td>\n",
       "      <td>setosa</td>\n",
       "    </tr>\n",
       "    <tr>\n",
       "      <th>2</th>\n",
       "      <td>1.3</td>\n",
       "      <td>0.2</td>\n",
       "      <td>setosa</td>\n",
       "    </tr>\n",
       "    <tr>\n",
       "      <th>3</th>\n",
       "      <td>1.5</td>\n",
       "      <td>0.2</td>\n",
       "      <td>setosa</td>\n",
       "    </tr>\n",
       "    <tr>\n",
       "      <th>4</th>\n",
       "      <td>1.4</td>\n",
       "      <td>0.2</td>\n",
       "      <td>setosa</td>\n",
       "    </tr>\n",
       "  </tbody>\n",
       "</table>\n",
       "</div>"
      ],
      "text/plain": [
       "   Petal.Length  Petal.Width Species\n",
       "0           1.4          0.2  setosa\n",
       "1           1.4          0.2  setosa\n",
       "2           1.3          0.2  setosa\n",
       "3           1.5          0.2  setosa\n",
       "4           1.4          0.2  setosa"
      ]
     },
     "execution_count": 9,
     "metadata": {},
     "output_type": "execute_result"
    }
   ],
   "source": [
    "#using petal width and petal length\n",
    "dat=dat.ix[:,2:]\n",
    "dat.head()"
   ]
  },
  {
   "cell_type": "code",
   "execution_count": 10,
   "metadata": {
    "collapsed": false
   },
   "outputs": [],
   "source": [
    "#seperating the classes\n",
    "setosa=dat.ix[dat['Species']=='setosa',:2]\n",
    "versicolor=dat.ix[dat['Species']=='versicolor',:2]\n",
    "virginica=dat.ix[dat['Species']=='virginica',:2]"
   ]
  },
  {
   "cell_type": "code",
   "execution_count": 11,
   "metadata": {
    "collapsed": false
   },
   "outputs": [
    {
     "data": {
      "text/plain": [
       "<matplotlib.legend.Legend at 0x2056c944240>"
      ]
     },
     "execution_count": 11,
     "metadata": {},
     "output_type": "execute_result"
    },
    {
     "data": {
      "image/png": "[encoded data removed]",
      "text/plain": [
       "<matplotlib.figure.Figure at 0x2056c8c8cf8>"
      ]
     },
     "metadata": {},
     "output_type": "display_data"
    }
   ],
   "source": [
    "plt.scatter(virginica['Petal.Length'],virginica['Petal.Width'],color='g',label='virginica')\n",
    "plt.scatter(setosa['Petal.Length'],setosa['Petal.Width'],color='r',label='setosa')\n",
    "plt.scatter(versicolor['Petal.Length'],versicolor['Petal.Width'],color='b',label='versicolor')\n",
    "plt.legend(loc='best')"
   ]
  },
  {
   "cell_type": "markdown",
   "metadata": {},
   "source": [
    "### We will be using k-means to seperate the dataset into three classes."
   ]
  },
  {
   "cell_type": "code",
   "execution_count": 12,
   "metadata": {
    "collapsed": false
   },
   "outputs": [],
   "source": [
    "#algorithm for k-means \n",
    "def kmeans(dat1,clusters,iterations):\n",
    "#assigning random points as centroid of initial cluster\n",
    "    index=np.random.permutation(dat1.index)[:clusters]\n",
    "    \n",
    "    cluster=list()\n",
    "    label=list()\n",
    "    sse=[]\n",
    "    d=dict()\n",
    "    for i in index:\n",
    "        cluster.append(np.array(dat1.ix[i,:]))\n",
    "#calculating the distance of each datapoint from the clusters and assigning label to minimum distance\n",
    "    for i in range(len(dat1)):\n",
    "        dist=list()\n",
    "        for j in range(len(cluster)):\n",
    "            dist.append(np.sum((np.array(dat1.ix[i])-cluster[j])**2))\n",
    "        label.append(np.argmin(dist))\n",
    "    dat1['label']=np.array(label)\n",
    "    for i in range(iterations):\n",
    "#calculating mean of clusters as new centroid\n",
    "        cluster=list()\n",
    "        label=list()\n",
    "        for i in np.unique(dat1['label']):\n",
    "            cluster.append(np.array(np.mean(dat1.ix[dat1['label']==i,:-1])))\n",
    "#calculating the distance of each datapoint from the clusters and assigning label to minimum distance\n",
    "        for i in range(len(dat1)):\n",
    "            dist=list()\n",
    "            for j in range(len(cluster)):\n",
    "                dist.append(np.sum((np.array(dat1.ix[i,:-1])-cluster[j])**2))\n",
    "            label.append(np.argmin(dist))\n",
    "        dat1['label']=np.array(label)\n",
    "#calculating the sum of squared error of individual cluster\n",
    "    for i in range(len(cluster)):\n",
    "        sse.append(np.sum((np.array(dat1.ix[dat1['label']==i,:-1])-cluster[i])**2))\n",
    "#calculating the total sum of squared error\n",
    "    totalsse=np.array(sse).sum()\n",
    "    d['clustermean']=cluster\n",
    "    d['data']=dat1\n",
    "    d['sse']=sse\n",
    "    d['totalsse']=totalsse\n",
    "    return d"
   ]
  },
  {
   "cell_type": "code",
   "execution_count": 22,
   "metadata": {
    "collapsed": false
   },
   "outputs": [],
   "source": [
    "dic=kmeans(dat.ix[:,:2],3,20)#using kmeans algorithm to seprate the data points into three clusters"
   ]
  },
  {
   "cell_type": "code",
   "execution_count": 23,
   "metadata": {
    "collapsed": false
   },
   "outputs": [
    {
     "data": {
      "text/html": [
       "<div>\n",
       "<table border=\"1\" class=\"dataframe\">\n",
       "  <thead>\n",
       "    <tr style=\"text-align: right;\">\n",
       "      <th></th>\n",
       "      <th>Petal.Length</th>\n",
       "      <th>Petal.Width</th>\n",
       "      <th>label</th>\n",
       "    </tr>\n",
       "  </thead>\n",
       "  <tbody>\n",
       "    <tr>\n",
       "      <th>0</th>\n",
       "      <td>1.4</td>\n",
       "      <td>0.2</td>\n",
       "      <td>1</td>\n",
       "    </tr>\n",
       "    <tr>\n",
       "      <th>1</th>\n",
       "      <td>1.4</td>\n",
       "      <td>0.2</td>\n",
       "      <td>1</td>\n",
       "    </tr>\n",
       "    <tr>\n",
       "      <th>2</th>\n",
       "      <td>1.3</td>\n",
       "      <td>0.2</td>\n",
       "      <td>1</td>\n",
       "    </tr>\n",
       "    <tr>\n",
       "      <th>3</th>\n",
       "      <td>1.5</td>\n",
       "      <td>0.2</td>\n",
       "      <td>1</td>\n",
       "    </tr>\n",
       "    <tr>\n",
       "      <th>4</th>\n",
       "      <td>1.4</td>\n",
       "      <td>0.2</td>\n",
       "      <td>1</td>\n",
       "    </tr>\n",
       "  </tbody>\n",
       "</table>\n",
       "</div>"
      ],
      "text/plain": [
       "   Petal.Length  Petal.Width  label\n",
       "0           1.4          0.2      1\n",
       "1           1.4          0.2      1\n",
       "2           1.3          0.2      1\n",
       "3           1.5          0.2      1\n",
       "4           1.4          0.2      1"
      ]
     },
     "execution_count": 23,
     "metadata": {},
     "output_type": "execute_result"
    }
   ],
   "source": [
    "dat1=dic['data']\n",
    "dat1.head()"
   ]
  },
  {
   "cell_type": "code",
   "execution_count": 24,
   "metadata": {
    "collapsed": true
   },
   "outputs": [],
   "source": [
    "#seperating the dataset according to the three labels\n",
    "l0=dat1.ix[dat1['label']==0,:2]\n",
    "l1=dat1.ix[dat1['label']==1,:2]\n",
    "l2=dat1.ix[dat1['label']==2,:2]"
   ]
  },
  {
   "cell_type": "code",
   "execution_count": 25,
   "metadata": {
    "collapsed": false
   },
   "outputs": [
    {
     "data": {
      "text/plain": [
       "<matplotlib.legend.Legend at 0x2056cab9b00>"
      ]
     },
     "execution_count": 25,
     "metadata": {},
     "output_type": "execute_result"
    },
    {
     "data": {
      "image/png": "[encoded data removed]",
      "text/plain": [
       "<matplotlib.figure.Figure at 0x2056c8b2c50>"
      ]
     },
     "metadata": {},
     "output_type": "display_data"
    }
   ],
   "source": [
    "#plotting the same \n",
    "plt.scatter(l0['Petal.Length'],l0['Petal.Width'],color='g',label='l0')\n",
    "plt.scatter(l1['Petal.Length'],l1['Petal.Width'],color='r',label='l1')\n",
    "plt.scatter(l2['Petal.Length'],l2['Petal.Width'],color='b',label='l2')\n",
    "plt.legend(loc='best')"
   ]
  },
  {
   "cell_type": "markdown",
   "metadata": {},
   "source": [
    "The figure looks same like the actual figure drawn above,which means that k-means algorithm was able to seperate the three classes"
   ]
  },
  {
   "cell_type": "code",
   "execution_count": 17,
   "metadata": {
    "collapsed": false
   },
   "outputs": [
    {
     "data": {
      "text/plain": [
       "[14.22740740740741, 15.163478260869566, 2.0220000000000002]"
      ]
     },
     "execution_count": 17,
     "metadata": {},
     "output_type": "execute_result"
    }
   ],
   "source": [
    "dic['sse']"
   ]
  },
  {
   "cell_type": "code",
   "execution_count": 18,
   "metadata": {
    "collapsed": false
   },
   "outputs": [
    {
     "data": {
      "text/plain": [
       "31.412885668276978"
      ]
     },
     "execution_count": 18,
     "metadata": {},
     "output_type": "execute_result"
    }
   ],
   "source": [
    "dic['totalsse']"
   ]
  },
  {
   "cell_type": "code",
   "execution_count": 20,
   "metadata": {
    "collapsed": false
   },
   "outputs": [
    {
     "data": {
      "text/plain": [
       "[array([ 4.29259259,  1.35925926]),\n",
       " array([ 5.62608696,  2.04782609]),\n",
       " array([ 1.462,  0.246])]"
      ]
     },
     "execution_count": 20,
     "metadata": {},
     "output_type": "execute_result"
    }
   ],
   "source": [
    "dic['clustermean']"
   ]
  }
 ],
 "metadata": {
  "kernelspec": {
   "display_name": "Python 3",
   "language": "python",
   "name": "python3"
  },
  "language_info": {
   "codemirror_mode": {
    "name": "ipython",
    "version": 3
   },
   "file_extension": ".py",
   "mimetype": "text/x-python",
   "name": "python",
   "nbconvert_exporter": "python",
   "pygments_lexer": "ipython3",
   "version": "3.6.0"
  }
 },
 "nbformat": 4,
 "nbformat_minor": 2
}
