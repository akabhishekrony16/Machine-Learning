{
 "cells": [
  {
   "cell_type": "markdown",
   "metadata": {},
   "source": [
    "# Classification"
   ]
  },
  {
   "cell_type": "code",
   "execution_count": 1,
   "metadata": {
    "collapsed": true
   },
   "outputs": [],
   "source": [
    "import numpy as np\n",
    "import pandas as pd\n",
    "from pandas import DataFrame,Series\n",
    "import matplotlib\n",
    "import matplotlib.pyplot as plt\n",
    "%matplotlib inline"
   ]
  },
  {
   "cell_type": "markdown",
   "metadata": {},
   "source": [
    "### using the mnist dataset from kaggle"
   ]
  },
  {
   "cell_type": "code",
   "execution_count": 103,
   "metadata": {},
   "outputs": [],
   "source": [
    "#seperating the data and labels from the training set\n",
    "mnist_train = pd.read_csv('datasets/train.csv')\n",
    "X_train = mnist_train .ix[:,1:]#data for training\n",
    "y_train = mnist_train.ix[:,0]#labels for training"
   ]
  },
  {
   "cell_type": "code",
   "execution_count": 104,
   "metadata": {},
   "outputs": [],
   "source": [
    "#seperating the data and labels from the testing set\n",
    "mnist_test = pd.read_csv('datasets/test.csv')\n",
    "X_test = mnist_test#data for testing"
   ]
  },
  {
   "cell_type": "markdown",
   "metadata": {},
   "source": [
    "### showing one of the images"
   ]
  },
  {
   "cell_type": "code",
   "execution_count": 4,
   "metadata": {},
   "outputs": [],
   "source": [
    "some_digit = X_train.ix[360,:]\n",
    "some_digit_image = some_digit.values.reshape(28,28)"
   ]
  },
  {
   "cell_type": "code",
   "execution_count": 5,
   "metadata": {},
   "outputs": [
    {
     "data": {
      "text/plain": [
       "<matplotlib.image.AxesImage at 0x20c9d528f28>"
      ]
     },
     "execution_count": 5,
     "metadata": {},
     "output_type": "execute_result"
    },
    {
     "data": {
      "image/png": "[encoded data removed]",
      "text/plain": [
       "<matplotlib.figure.Figure at 0x20c997134a8>"
      ]
     },
     "metadata": {},
     "output_type": "display_data"
    }
   ],
   "source": [
    "plt.imshow(some_digit_image,cmap = matplotlib.cm.binary,interpolation = 'nearest')"
   ]
  },
  {
   "cell_type": "code",
   "execution_count": 6,
   "metadata": {},
   "outputs": [
    {
     "data": {
      "text/plain": [
       "2"
      ]
     },
     "execution_count": 6,
     "metadata": {},
     "output_type": "execute_result"
    }
   ],
   "source": [
    "#lets see if its a two or not\n",
    "y_train.ix[360,:]"
   ]
  },
  {
   "cell_type": "code",
   "execution_count": 7,
   "metadata": {},
   "outputs": [],
   "source": [
    "#shuffling the datasets\n",
    "shuffle_index = np.random.permutation(len(X_train))\n",
    "X_train , y_train = X_train.ix[shuffle_index,:] , y_train[shuffle_index]"
   ]
  },
  {
   "cell_type": "markdown",
   "metadata": {},
   "source": [
    "### Training a binary classifier to check wheter a digit is 2 or not"
   ]
  },
  {
   "cell_type": "code",
   "execution_count": 8,
   "metadata": {},
   "outputs": [],
   "source": [
    "y_train_2 = (y_train == 2)#output is a series of true and false \n",
    "y_test_2 = (y_test ==2)"
   ]
  },
  {
   "cell_type": "code",
   "execution_count": 9,
   "metadata": {},
   "outputs": [
    {
     "data": {
      "text/plain": [
       "SGDClassifier(alpha=0.0001, average=False, class_weight=None, epsilon=0.1,\n",
       "       eta0=0.0, fit_intercept=True, l1_ratio=0.15,\n",
       "       learning_rate='optimal', loss='hinge', n_iter=5, n_jobs=1,\n",
       "       penalty='l2', power_t=0.5, random_state=42, shuffle=True, verbose=0,\n",
       "       warm_start=False)"
      ]
     },
     "execution_count": 9,
     "metadata": {},
     "output_type": "execute_result"
    }
   ],
   "source": [
    "#training using a SGD classifier(stochastic gradient descent)\n",
    "from sklearn.linear_model import SGDClassifier\n",
    "\n",
    "sgd_clf = SGDClassifier(random_state = 42)\n",
    "sgd_clf.fit(X_train,y_train_2)"
   ]
  },
  {
   "cell_type": "code",
   "execution_count": 10,
   "metadata": {},
   "outputs": [
    {
     "data": {
      "text/plain": [
       "array([False], dtype=bool)"
      ]
     },
     "execution_count": 10,
     "metadata": {},
     "output_type": "execute_result"
    }
   ],
   "source": [
    "#lets see if it can detect the number 2\n",
    "sgd_clf.predict([some_digit])#it guessed it wrong"
   ]
  },
  {
   "cell_type": "markdown",
   "metadata": {},
   "source": [
    "### Performance measures"
   ]
  },
  {
   "cell_type": "markdown",
   "metadata": {},
   "source": [
    "## Accuracy"
   ]
  },
  {
   "cell_type": "code",
   "execution_count": 11,
   "metadata": {},
   "outputs": [
    {
     "data": {
      "text/plain": [
       "array([ 0.97071638,  0.93692857,  0.95621116])"
      ]
     },
     "execution_count": 11,
     "metadata": {},
     "output_type": "execute_result"
    }
   ],
   "source": [
    "#sklearn has a function called cross_val_score() that does the same thing\n",
    "from sklearn.model_selection import cross_val_score\n",
    "cross_val_score(sgd_clf, X_train, y_train_2, cv=3, scoring=\"accuracy\")"
   ]
  },
  {
   "cell_type": "code",
   "execution_count": 12,
   "metadata": {},
   "outputs": [],
   "source": [
    "from sklearn.base import BaseEstimator\n",
    "\n",
    "class Never2classifier(BaseEstimator):\n",
    "    def fit(self,X,y=None):\n",
    "        pass\n",
    "    def predict(self,X):\n",
    "        return np.zeros((len(X),1),dtype=bool)"
   ]
  },
  {
   "cell_type": "code",
   "execution_count": 13,
   "metadata": {},
   "outputs": [
    {
     "data": {
      "text/plain": [
       "array([ 0.899     ,  0.90135714,  0.90128571])"
      ]
     },
     "execution_count": 13,
     "metadata": {},
     "output_type": "execute_result"
    }
   ],
   "source": [
    "nvr2clf = Never2classifier()\n",
    "cross_val_score(nvr2clf, X_train, y_train_2, cv=3, scoring=\"accuracy\")"
   ]
  },
  {
   "cell_type": "markdown",
   "metadata": {},
   "source": [
    "#### well accuracy is not a good measure when it comes to peroformance mearure especially when the dataset is skewed i.e. when some classes are more frequent than others"
   ]
  },
  {
   "cell_type": "markdown",
   "metadata": {},
   "source": [
    "## Confusion Matrix"
   ]
  },
  {
   "cell_type": "code",
   "execution_count": 14,
   "metadata": {
    "collapsed": true
   },
   "outputs": [],
   "source": [
    "from sklearn.model_selection import cross_val_predict\n",
    "y_train_pred = cross_val_predict(sgd_clf,X_train,y_train_2,cv =3)"
   ]
  },
  {
   "cell_type": "code",
   "execution_count": 15,
   "metadata": {},
   "outputs": [
    {
     "data": {
      "text/plain": [
       "array([[36347,  1476],\n",
       "       [  430,  3747]])"
      ]
     },
     "execution_count": 15,
     "metadata": {},
     "output_type": "execute_result"
    }
   ],
   "source": [
    "from sklearn.metrics import confusion_matrix\n",
    "cnf_matr = confusion_matrix(y_train_2,y_train_pred)\n",
    "cnf_matr"
   ]
  },
  {
   "cell_type": "code",
   "execution_count": 16,
   "metadata": {},
   "outputs": [
    {
     "data": {
      "text/html": [
       "<div>\n",
       "<table border=\"1\" class=\"dataframe\">\n",
       "  <thead>\n",
       "    <tr style=\"text-align: right;\">\n",
       "      <th></th>\n",
       "      <th>Predicted_False</th>\n",
       "      <th>Predicted_True</th>\n",
       "    </tr>\n",
       "  </thead>\n",
       "  <tbody>\n",
       "    <tr>\n",
       "      <th>Actual_False</th>\n",
       "      <td>36347</td>\n",
       "      <td>1476</td>\n",
       "    </tr>\n",
       "    <tr>\n",
       "      <th>Actual_True</th>\n",
       "      <td>430</td>\n",
       "      <td>3747</td>\n",
       "    </tr>\n",
       "  </tbody>\n",
       "</table>\n",
       "</div>"
      ],
      "text/plain": [
       "              Predicted_False  Predicted_True\n",
       "Actual_False            36347            1476\n",
       "Actual_True               430            3747"
      ]
     },
     "execution_count": 16,
     "metadata": {},
     "output_type": "execute_result"
    }
   ],
   "source": [
    "cnf_matr = DataFrame(cnf_matr)\n",
    "cnf_matr.columns = ['Predicted_False','Predicted_True']\n",
    "cnf_matr.index = ['Actual_False','Actual_True']\n",
    "cnf_matr"
   ]
  },
  {
   "cell_type": "markdown",
   "metadata": {},
   "source": [
    "## precison = TP/(TP + FP) and recall = TP/(TP + FN)"
   ]
  },
  {
   "cell_type": "code",
   "execution_count": 17,
   "metadata": {},
   "outputs": [
    {
     "data": {
      "text/plain": [
       "0.71740379092475592"
      ]
     },
     "execution_count": 17,
     "metadata": {},
     "output_type": "execute_result"
    }
   ],
   "source": [
    "from sklearn.metrics import precision_score, recall_score\n",
    "precision_score(y_train_2,y_train_pred)"
   ]
  },
  {
   "cell_type": "code",
   "execution_count": 18,
   "metadata": {},
   "outputs": [
    {
     "data": {
      "text/plain": [
       "0.8915693245302184"
      ]
     },
     "execution_count": 18,
     "metadata": {},
     "output_type": "execute_result"
    }
   ],
   "source": [
    "3511/(3511+427)"
   ]
  },
  {
   "cell_type": "code",
   "execution_count": 19,
   "metadata": {},
   "outputs": [
    {
     "data": {
      "text/plain": [
       "0.89705530284893464"
      ]
     },
     "execution_count": 19,
     "metadata": {},
     "output_type": "execute_result"
    }
   ],
   "source": [
    "recall_score(y_train_2,y_train_pred)"
   ]
  },
  {
   "cell_type": "code",
   "execution_count": 20,
   "metadata": {},
   "outputs": [
    {
     "data": {
      "text/plain": [
       "0.8405554225520708"
      ]
     },
     "execution_count": 20,
     "metadata": {},
     "output_type": "execute_result"
    }
   ],
   "source": [
    "3511/(3511+666)"
   ]
  },
  {
   "cell_type": "markdown",
   "metadata": {},
   "source": [
    "## F1 score = 2 x (precision x Recall)/(precision + Recall)"
   ]
  },
  {
   "cell_type": "code",
   "execution_count": 21,
   "metadata": {},
   "outputs": [
    {
     "data": {
      "text/plain": [
       "0.79723404255319141"
      ]
     },
     "execution_count": 21,
     "metadata": {},
     "output_type": "execute_result"
    }
   ],
   "source": [
    "from sklearn.metrics import f1_score\n",
    "f1_score(y_train_2,y_train_pred)"
   ]
  },
  {
   "cell_type": "markdown",
   "metadata": {},
   "source": [
    "## plot for precision and recall vs threshold"
   ]
  },
  {
   "cell_type": "code",
   "execution_count": 22,
   "metadata": {
    "collapsed": true
   },
   "outputs": [],
   "source": [
    "y_scores = cross_val_predict(sgd_clf,X_train,y_train_2,cv = 3,method ='decision_function')"
   ]
  },
  {
   "cell_type": "code",
   "execution_count": 23,
   "metadata": {},
   "outputs": [],
   "source": [
    "from sklearn.metrics import precision_recall_curve\n",
    "precisions,recalls,thresholds = precision_recall_curve(y_train_2,y_scores)"
   ]
  },
  {
   "cell_type": "code",
   "execution_count": 24,
   "metadata": {},
   "outputs": [
    {
     "data": {
      "text/plain": [
       "(41286,)"
      ]
     },
     "execution_count": 24,
     "metadata": {},
     "output_type": "execute_result"
    }
   ],
   "source": [
    "precisions.shape"
   ]
  },
  {
   "cell_type": "code",
   "execution_count": 25,
   "metadata": {
    "collapsed": true
   },
   "outputs": [],
   "source": [
    "def plot_precision_recall_vs_threshold(precisions,recalls,thresholds):\n",
    "    plt.plot(thresholds,precisions[:-1],\"b--\",label='Precision')\n",
    "    plt.plot(thresholds,recalls[:-1],\"g-\",label='Recall')\n",
    "    plt.xlabel(\"Threshold\")\n",
    "    plt.legend(loc = \"upper left\")\n",
    "    plt.ylim([0,1])"
   ]
  },
  {
   "cell_type": "code",
   "execution_count": 26,
   "metadata": {},
   "outputs": [
    {
     "data": {
      "image/png": "[encoded data removed]",
      "text/plain": [
       "<matplotlib.figure.Figure at 0x20c9d57e4e0>"
      ]
     },
     "metadata": {},
     "output_type": "display_data"
    }
   ],
   "source": [
    "plt.figure(figsize=(15,5))\n",
    "plot_precision_recall_vs_threshold(precisions,recalls,thresholds)"
   ]
  },
  {
   "cell_type": "code",
   "execution_count": 27,
   "metadata": {},
   "outputs": [
    {
     "data": {
      "text/plain": [
       "0.84259259259259256"
      ]
     },
     "execution_count": 27,
     "metadata": {},
     "output_type": "execute_result"
    }
   ],
   "source": [
    "y_train_prec_90 = (y_scores>100000)\n",
    "precision_score(y_train_2,y_train_prec_90)"
   ]
  },
  {
   "cell_type": "code",
   "execution_count": 28,
   "metadata": {},
   "outputs": [
    {
     "data": {
      "text/plain": [
       "0.84965286090495573"
      ]
     },
     "execution_count": 28,
     "metadata": {},
     "output_type": "execute_result"
    }
   ],
   "source": [
    "recall_score(y_train_2,y_train_prec_90)"
   ]
  },
  {
   "cell_type": "markdown",
   "metadata": {},
   "source": [
    "# ROC curve"
   ]
  },
  {
   "cell_type": "code",
   "execution_count": 29,
   "metadata": {
    "collapsed": true
   },
   "outputs": [],
   "source": [
    "from sklearn.metrics import roc_curve\n",
    "fpr , tpr , thresholds = roc_curve(y_train_2,y_scores)\n",
    "def plot_roc_curve(fpr,tpr,label =None):\n",
    "    plt.plot(fpr,tpr,linewidth=2,label=label)\n",
    "    plt.plot([0,1],[0,1],'k--')\n",
    "    plt.axis([0,1,0,1])\n",
    "    plt.xlabel(\"False Positive Rate\")\n",
    "    plt.ylabel(\"True Positive Rate\")"
   ]
  },
  {
   "cell_type": "code",
   "execution_count": 30,
   "metadata": {},
   "outputs": [
    {
     "data": {
      "image/png": "[encoded data removed]",
      "text/plain": [
       "<matplotlib.figure.Figure at 0x20c9d565f98>"
      ]
     },
     "metadata": {},
     "output_type": "display_data"
    }
   ],
   "source": [
    "plt.figure(figsize=(10,5))\n",
    "plot_roc_curve(fpr,tpr)\n",
    "plt.show()"
   ]
  },
  {
   "cell_type": "code",
   "execution_count": 31,
   "metadata": {},
   "outputs": [
    {
     "data": {
      "text/plain": [
       "0.9749404555780532"
      ]
     },
     "execution_count": 31,
     "metadata": {},
     "output_type": "execute_result"
    }
   ],
   "source": [
    "from sklearn.metrics import roc_auc_score\n",
    "roc_auc_score(y_train_2,y_scores)"
   ]
  },
  {
   "cell_type": "code",
   "execution_count": 32,
   "metadata": {},
   "outputs": [],
   "source": [
    "from sklearn.ensemble import RandomForestClassifier\n",
    "forest_clf = RandomForestClassifier(random_state = 42)\n",
    "y_probas_forest = cross_val_predict(forest_clf,X_train,y_train_2,cv=3,method=\"predict_proba\")"
   ]
  },
  {
   "cell_type": "code",
   "execution_count": 33,
   "metadata": {},
   "outputs": [],
   "source": [
    "y_scores_forest = y_probas_forest[:,1]  #score = proba of positive class"
   ]
  },
  {
   "cell_type": "code",
   "execution_count": 34,
   "metadata": {},
   "outputs": [
    {
     "data": {
      "image/png": "[encoded data removed]",
      "text/plain": [
       "<matplotlib.figure.Figure at 0x20c9d772fd0>"
      ]
     },
     "metadata": {},
     "output_type": "display_data"
    }
   ],
   "source": [
    "from sklearn.metrics import roc_curve\n",
    "fpr_forest , tpr_forest , thresholds_forest = roc_curve(y_train_2,y_scores_forest)\n",
    "plt.figure(figsize=(10,5))\n",
    "plt.plot(fpr,tpr,\"b:\",label=\"SGD\")\n",
    "plot_roc_curve(fpr_forest,tpr_forest,\"Random Forest\")\n",
    "plt.legend(loc=\"best\")\n",
    "plt.show()"
   ]
  },
  {
   "cell_type": "code",
   "execution_count": 35,
   "metadata": {},
   "outputs": [
    {
     "data": {
      "text/plain": [
       "0.99301309095879375"
      ]
     },
     "execution_count": 35,
     "metadata": {},
     "output_type": "execute_result"
    }
   ],
   "source": [
    "roc_auc_score(y_train_2,y_scores_forest)"
   ]
  },
  {
   "cell_type": "code",
   "execution_count": 36,
   "metadata": {},
   "outputs": [
    {
     "data": {
      "text/plain": [
       "0.98298355076574018"
      ]
     },
     "execution_count": 36,
     "metadata": {},
     "output_type": "execute_result"
    }
   ],
   "source": [
    "precision_score(y_train_2,(y_scores_forest>0.5))"
   ]
  },
  {
   "cell_type": "code",
   "execution_count": 37,
   "metadata": {},
   "outputs": [
    {
     "data": {
      "text/plain": [
       "0.82978214029207564"
      ]
     },
     "execution_count": 37,
     "metadata": {},
     "output_type": "execute_result"
    }
   ],
   "source": [
    "recall_score(y_train_2,(y_scores_forest>0.5))"
   ]
  },
  {
   "cell_type": "markdown",
   "metadata": {},
   "source": [
    "## Multiclass classification"
   ]
  },
  {
   "cell_type": "code",
   "execution_count": 38,
   "metadata": {},
   "outputs": [
    {
     "data": {
      "text/plain": [
       "array([3], dtype=int64)"
      ]
     },
     "execution_count": 38,
     "metadata": {},
     "output_type": "execute_result"
    }
   ],
   "source": [
    "#One versus rest \n",
    "sgd_clf.fit(X_train,y_train)\n",
    "sgd_clf.predict([some_digit])"
   ]
  },
  {
   "cell_type": "code",
   "execution_count": 39,
   "metadata": {},
   "outputs": [
    {
     "data": {
      "text/plain": [
       "<matplotlib.image.AxesImage at 0x20c9da18eb8>"
      ]
     },
     "execution_count": 39,
     "metadata": {},
     "output_type": "execute_result"
    },
    {
     "data": {
      "image/png": "[encoded data removed]",
      "text/plain": [
       "<matplotlib.figure.Figure at 0x20c9d7729e8>"
      ]
     },
     "metadata": {},
     "output_type": "display_data"
    }
   ],
   "source": [
    "plt.imshow(some_digit_image,cmap = matplotlib.cm.binary,interpolation = 'nearest')"
   ]
  },
  {
   "cell_type": "code",
   "execution_count": 40,
   "metadata": {
    "collapsed": true
   },
   "outputs": [],
   "source": [
    "some_digit_scores = sgd_clf.decision_function([some_digit])"
   ]
  },
  {
   "cell_type": "code",
   "execution_count": 41,
   "metadata": {},
   "outputs": [
    {
     "data": {
      "text/plain": [
       "array([[-1072960.14004672,  -202429.86035849,  -160970.45732214,\n",
       "            5801.72266677, -1033130.58795214,  -361026.32922966,\n",
       "           -2293.78722182,  -436699.8788322 ,  -455316.82708978,\n",
       "         -955475.47897266]])"
      ]
     },
     "execution_count": 41,
     "metadata": {},
     "output_type": "execute_result"
    }
   ],
   "source": [
    "some_digit_scores"
   ]
  },
  {
   "cell_type": "code",
   "execution_count": 42,
   "metadata": {},
   "outputs": [
    {
     "data": {
      "text/plain": [
       "3"
      ]
     },
     "execution_count": 42,
     "metadata": {},
     "output_type": "execute_result"
    }
   ],
   "source": [
    "np.argmax(some_digit_scores)"
   ]
  },
  {
   "cell_type": "code",
   "execution_count": 43,
   "metadata": {},
   "outputs": [
    {
     "data": {
      "text/plain": [
       "array([0, 1, 2, 3, 4, 5, 6, 7, 8, 9], dtype=int64)"
      ]
     },
     "execution_count": 43,
     "metadata": {},
     "output_type": "execute_result"
    }
   ],
   "source": [
    "sgd_clf.classes_"
   ]
  },
  {
   "cell_type": "code",
   "execution_count": 44,
   "metadata": {},
   "outputs": [
    {
     "data": {
      "text/plain": [
       "2"
      ]
     },
     "execution_count": 44,
     "metadata": {},
     "output_type": "execute_result"
    }
   ],
   "source": [
    "sgd_clf.classes_[2]"
   ]
  },
  {
   "cell_type": "code",
   "execution_count": 45,
   "metadata": {},
   "outputs": [
    {
     "data": {
      "text/plain": [
       "array([3], dtype=int64)"
      ]
     },
     "execution_count": 45,
     "metadata": {},
     "output_type": "execute_result"
    }
   ],
   "source": [
    "#one versus one \n",
    "from sklearn.multiclass import OneVsOneClassifier\n",
    "ovo_clf = OneVsOneClassifier(SGDClassifier(random_state = 42))\n",
    "ovo_clf.fit(X_train,y_train)\n",
    "ovo_clf.predict([some_digit])"
   ]
  },
  {
   "cell_type": "code",
   "execution_count": 46,
   "metadata": {},
   "outputs": [
    {
     "data": {
      "text/plain": [
       "array([2], dtype=int64)"
      ]
     },
     "execution_count": 46,
     "metadata": {},
     "output_type": "execute_result"
    }
   ],
   "source": [
    "#Using random Forest\n",
    "forest_clf.fit(X_train,y_train)\n",
    "forest_clf.predict([some_digit])"
   ]
  },
  {
   "cell_type": "code",
   "execution_count": 47,
   "metadata": {},
   "outputs": [
    {
     "data": {
      "text/plain": [
       "array([[ 0. ,  0.1,  0.8,  0.1,  0. ,  0. ,  0. ,  0. ,  0. ,  0. ]])"
      ]
     },
     "execution_count": 47,
     "metadata": {},
     "output_type": "execute_result"
    }
   ],
   "source": [
    "forest_clf.predict_proba([some_digit])"
   ]
  },
  {
   "cell_type": "code",
   "execution_count": 48,
   "metadata": {},
   "outputs": [
    {
     "data": {
      "text/plain": [
       "array([ 0.87839189,  0.87291042,  0.86883841])"
      ]
     },
     "execution_count": 48,
     "metadata": {},
     "output_type": "execute_result"
    }
   ],
   "source": [
    "#Using cross_val_score in stochastic gradient descent\n",
    "cross_val_score(sgd_clf,X_train,y_train,cv=3,scoring=\"accuracy\")"
   ]
  },
  {
   "cell_type": "code",
   "execution_count": 49,
   "metadata": {},
   "outputs": [
    {
     "data": {
      "text/plain": [
       "array([ 0.91223936,  0.90955851,  0.9067724 ])"
      ]
     },
     "execution_count": 49,
     "metadata": {},
     "output_type": "execute_result"
    }
   ],
   "source": [
    "#scaling the inputs\n",
    "from sklearn.preprocessing import StandardScaler\n",
    "scaler = StandardScaler()\n",
    "X_train_scaled = scaler.fit_transform(X_train.astype(np.float64))\n",
    "cross_val_score(sgd_clf,X_train_scaled,y_train,cv=3,scoring=\"accuracy\")"
   ]
  },
  {
   "cell_type": "markdown",
   "metadata": {
    "collapsed": true
   },
   "source": [
    "## Error Analysis"
   ]
  },
  {
   "cell_type": "code",
   "execution_count": 50,
   "metadata": {},
   "outputs": [
    {
     "data": {
      "text/plain": [
       "array([[4010,    1,   11,    9,    7,   32,   36,    4,   21,    1],\n",
       "       [   0, 4529,   24,   25,    3,   21,    9,    7,   62,    4],\n",
       "       [  32,   27, 3708,   74,   67,   22,   70,   51,  109,   17],\n",
       "       [  28,   28,   97, 3800,    1,  162,   31,   37,   99,   68],\n",
       "       [  11,   22,   29,    7, 3742,    6,   37,   19,   52,  147],\n",
       "       [  57,   36,   17,  135,   59, 3191,   83,   24,  116,   77],\n",
       "       [  30,   14,   15,    0,   26,   68, 3950,    5,   29,    0],\n",
       "       [  24,   15,   53,   19,   27,    8,    5, 4061,    6,  183],\n",
       "       [  41,   93,   39,  120,   11,  106,   38,   20, 3495,  100],\n",
       "       [  31,   22,   17,   65,  115,   17,    1,  148,   58, 3714]])"
      ]
     },
     "execution_count": 50,
     "metadata": {},
     "output_type": "execute_result"
    }
   ],
   "source": [
    "y_train_pred = cross_val_predict(sgd_clf,X_train_scaled,y_train,cv=3)\n",
    "conf_mx = confusion_matrix(y_train,y_train_pred)\n",
    "conf_mx"
   ]
  },
  {
   "cell_type": "code",
   "execution_count": 51,
   "metadata": {},
   "outputs": [
    {
     "data": {
      "text/html": [
       "<div>\n",
       "<table border=\"1\" class=\"dataframe\">\n",
       "  <thead>\n",
       "    <tr style=\"text-align: right;\">\n",
       "      <th></th>\n",
       "      <th>Predicted0</th>\n",
       "      <th>Predicted1</th>\n",
       "      <th>Predicted2</th>\n",
       "      <th>Predicted3</th>\n",
       "      <th>Predicted4</th>\n",
       "      <th>Predicted5</th>\n",
       "      <th>Predicted6</th>\n",
       "      <th>Predicted7</th>\n",
       "      <th>Predicted8</th>\n",
       "      <th>Predicted9</th>\n",
       "      <th>Total</th>\n",
       "    </tr>\n",
       "  </thead>\n",
       "  <tbody>\n",
       "    <tr>\n",
       "      <th>Actual0</th>\n",
       "      <td>4010</td>\n",
       "      <td>1</td>\n",
       "      <td>11</td>\n",
       "      <td>9</td>\n",
       "      <td>7</td>\n",
       "      <td>32</td>\n",
       "      <td>36</td>\n",
       "      <td>4</td>\n",
       "      <td>21</td>\n",
       "      <td>1</td>\n",
       "      <td>4132</td>\n",
       "    </tr>\n",
       "    <tr>\n",
       "      <th>Actual1</th>\n",
       "      <td>0</td>\n",
       "      <td>4529</td>\n",
       "      <td>24</td>\n",
       "      <td>25</td>\n",
       "      <td>3</td>\n",
       "      <td>21</td>\n",
       "      <td>9</td>\n",
       "      <td>7</td>\n",
       "      <td>62</td>\n",
       "      <td>4</td>\n",
       "      <td>4684</td>\n",
       "    </tr>\n",
       "    <tr>\n",
       "      <th>Actual2</th>\n",
       "      <td>32</td>\n",
       "      <td>27</td>\n",
       "      <td>3708</td>\n",
       "      <td>74</td>\n",
       "      <td>67</td>\n",
       "      <td>22</td>\n",
       "      <td>70</td>\n",
       "      <td>51</td>\n",
       "      <td>109</td>\n",
       "      <td>17</td>\n",
       "      <td>4177</td>\n",
       "    </tr>\n",
       "    <tr>\n",
       "      <th>Actual3</th>\n",
       "      <td>28</td>\n",
       "      <td>28</td>\n",
       "      <td>97</td>\n",
       "      <td>3800</td>\n",
       "      <td>1</td>\n",
       "      <td>162</td>\n",
       "      <td>31</td>\n",
       "      <td>37</td>\n",
       "      <td>99</td>\n",
       "      <td>68</td>\n",
       "      <td>4351</td>\n",
       "    </tr>\n",
       "    <tr>\n",
       "      <th>Actual4</th>\n",
       "      <td>11</td>\n",
       "      <td>22</td>\n",
       "      <td>29</td>\n",
       "      <td>7</td>\n",
       "      <td>3742</td>\n",
       "      <td>6</td>\n",
       "      <td>37</td>\n",
       "      <td>19</td>\n",
       "      <td>52</td>\n",
       "      <td>147</td>\n",
       "      <td>4072</td>\n",
       "    </tr>\n",
       "    <tr>\n",
       "      <th>Actual5</th>\n",
       "      <td>57</td>\n",
       "      <td>36</td>\n",
       "      <td>17</td>\n",
       "      <td>135</td>\n",
       "      <td>59</td>\n",
       "      <td>3191</td>\n",
       "      <td>83</td>\n",
       "      <td>24</td>\n",
       "      <td>116</td>\n",
       "      <td>77</td>\n",
       "      <td>3795</td>\n",
       "    </tr>\n",
       "    <tr>\n",
       "      <th>Actual6</th>\n",
       "      <td>30</td>\n",
       "      <td>14</td>\n",
       "      <td>15</td>\n",
       "      <td>0</td>\n",
       "      <td>26</td>\n",
       "      <td>68</td>\n",
       "      <td>3950</td>\n",
       "      <td>5</td>\n",
       "      <td>29</td>\n",
       "      <td>0</td>\n",
       "      <td>4137</td>\n",
       "    </tr>\n",
       "    <tr>\n",
       "      <th>Actual7</th>\n",
       "      <td>24</td>\n",
       "      <td>15</td>\n",
       "      <td>53</td>\n",
       "      <td>19</td>\n",
       "      <td>27</td>\n",
       "      <td>8</td>\n",
       "      <td>5</td>\n",
       "      <td>4061</td>\n",
       "      <td>6</td>\n",
       "      <td>183</td>\n",
       "      <td>4401</td>\n",
       "    </tr>\n",
       "    <tr>\n",
       "      <th>Actual8</th>\n",
       "      <td>41</td>\n",
       "      <td>93</td>\n",
       "      <td>39</td>\n",
       "      <td>120</td>\n",
       "      <td>11</td>\n",
       "      <td>106</td>\n",
       "      <td>38</td>\n",
       "      <td>20</td>\n",
       "      <td>3495</td>\n",
       "      <td>100</td>\n",
       "      <td>4063</td>\n",
       "    </tr>\n",
       "    <tr>\n",
       "      <th>Actual9</th>\n",
       "      <td>31</td>\n",
       "      <td>22</td>\n",
       "      <td>17</td>\n",
       "      <td>65</td>\n",
       "      <td>115</td>\n",
       "      <td>17</td>\n",
       "      <td>1</td>\n",
       "      <td>148</td>\n",
       "      <td>58</td>\n",
       "      <td>3714</td>\n",
       "      <td>4188</td>\n",
       "    </tr>\n",
       "  </tbody>\n",
       "</table>\n",
       "</div>"
      ],
      "text/plain": [
       "         Predicted0  Predicted1  Predicted2  Predicted3  Predicted4  \\\n",
       "Actual0        4010           1          11           9           7   \n",
       "Actual1           0        4529          24          25           3   \n",
       "Actual2          32          27        3708          74          67   \n",
       "Actual3          28          28          97        3800           1   \n",
       "Actual4          11          22          29           7        3742   \n",
       "Actual5          57          36          17         135          59   \n",
       "Actual6          30          14          15           0          26   \n",
       "Actual7          24          15          53          19          27   \n",
       "Actual8          41          93          39         120          11   \n",
       "Actual9          31          22          17          65         115   \n",
       "\n",
       "         Predicted5  Predicted6  Predicted7  Predicted8  Predicted9  Total  \n",
       "Actual0          32          36           4          21           1   4132  \n",
       "Actual1          21           9           7          62           4   4684  \n",
       "Actual2          22          70          51         109          17   4177  \n",
       "Actual3         162          31          37          99          68   4351  \n",
       "Actual4           6          37          19          52         147   4072  \n",
       "Actual5        3191          83          24         116          77   3795  \n",
       "Actual6          68        3950           5          29           0   4137  \n",
       "Actual7           8           5        4061           6         183   4401  \n",
       "Actual8         106          38          20        3495         100   4063  \n",
       "Actual9          17           1         148          58        3714   4188  "
      ]
     },
     "execution_count": 51,
     "metadata": {},
     "output_type": "execute_result"
    }
   ],
   "source": [
    "cnf_matr = DataFrame(conf_mx)\n",
    "cnf_matr.columns = ['Predicted' + str(i) for i in range(10)]\n",
    "cnf_matr.index = ['Actual' + str(i) for i in range(10)]\n",
    "cnf_matr['Total'] = np.sum(cnf_matr,axis=1)\n",
    "cnf_matr"
   ]
  },
  {
   "cell_type": "code",
   "execution_count": 52,
   "metadata": {},
   "outputs": [
    {
     "data": {
      "text/plain": [
       "<matplotlib.image.AxesImage at 0x20c8fb8cf98>"
      ]
     },
     "execution_count": 52,
     "metadata": {},
     "output_type": "execute_result"
    },
    {
     "data": {
      "image/png": "[encoded data removed]",
      "text/plain": [
       "<matplotlib.figure.Figure at 0x20c9da30a90>"
      ]
     },
     "metadata": {},
     "output_type": "display_data"
    }
   ],
   "source": [
    "plt.matshow(conf_mx,cmap=plt.cm.gray)"
   ]
  },
  {
   "cell_type": "code",
   "execution_count": 53,
   "metadata": {},
   "outputs": [],
   "source": [
    "norm_conf_mx = cnf_matr.copy()\n",
    "for i in range(len(norm_conf_mx.columns)-1):\n",
    "    norm_conf_mx.iloc[i,:] = norm_conf_mx.iloc[i,:]/norm_conf_mx.iloc[i,10]"
   ]
  },
  {
   "cell_type": "code",
   "execution_count": 54,
   "metadata": {},
   "outputs": [
    {
     "data": {
      "text/html": [
       "<div>\n",
       "<table border=\"1\" class=\"dataframe\">\n",
       "  <thead>\n",
       "    <tr style=\"text-align: right;\">\n",
       "      <th></th>\n",
       "      <th>Predicted0</th>\n",
       "      <th>Predicted1</th>\n",
       "      <th>Predicted2</th>\n",
       "      <th>Predicted3</th>\n",
       "      <th>Predicted4</th>\n",
       "      <th>Predicted5</th>\n",
       "      <th>Predicted6</th>\n",
       "      <th>Predicted7</th>\n",
       "      <th>Predicted8</th>\n",
       "      <th>Predicted9</th>\n",
       "      <th>Total</th>\n",
       "    </tr>\n",
       "  </thead>\n",
       "  <tbody>\n",
       "    <tr>\n",
       "      <th>Actual0</th>\n",
       "      <td>0.970474</td>\n",
       "      <td>0.000242</td>\n",
       "      <td>0.002662</td>\n",
       "      <td>0.002178</td>\n",
       "      <td>0.001694</td>\n",
       "      <td>0.007744</td>\n",
       "      <td>0.008712</td>\n",
       "      <td>0.000968</td>\n",
       "      <td>0.005082</td>\n",
       "      <td>0.000242</td>\n",
       "      <td>1.0</td>\n",
       "    </tr>\n",
       "    <tr>\n",
       "      <th>Actual1</th>\n",
       "      <td>0.000000</td>\n",
       "      <td>0.966909</td>\n",
       "      <td>0.005124</td>\n",
       "      <td>0.005337</td>\n",
       "      <td>0.000640</td>\n",
       "      <td>0.004483</td>\n",
       "      <td>0.001921</td>\n",
       "      <td>0.001494</td>\n",
       "      <td>0.013237</td>\n",
       "      <td>0.000854</td>\n",
       "      <td>1.0</td>\n",
       "    </tr>\n",
       "    <tr>\n",
       "      <th>Actual2</th>\n",
       "      <td>0.007661</td>\n",
       "      <td>0.006464</td>\n",
       "      <td>0.887718</td>\n",
       "      <td>0.017716</td>\n",
       "      <td>0.016040</td>\n",
       "      <td>0.005267</td>\n",
       "      <td>0.016758</td>\n",
       "      <td>0.012210</td>\n",
       "      <td>0.026095</td>\n",
       "      <td>0.004070</td>\n",
       "      <td>1.0</td>\n",
       "    </tr>\n",
       "    <tr>\n",
       "      <th>Actual3</th>\n",
       "      <td>0.006435</td>\n",
       "      <td>0.006435</td>\n",
       "      <td>0.022294</td>\n",
       "      <td>0.873362</td>\n",
       "      <td>0.000230</td>\n",
       "      <td>0.037233</td>\n",
       "      <td>0.007125</td>\n",
       "      <td>0.008504</td>\n",
       "      <td>0.022753</td>\n",
       "      <td>0.015629</td>\n",
       "      <td>1.0</td>\n",
       "    </tr>\n",
       "    <tr>\n",
       "      <th>Actual4</th>\n",
       "      <td>0.002701</td>\n",
       "      <td>0.005403</td>\n",
       "      <td>0.007122</td>\n",
       "      <td>0.001719</td>\n",
       "      <td>0.918959</td>\n",
       "      <td>0.001473</td>\n",
       "      <td>0.009086</td>\n",
       "      <td>0.004666</td>\n",
       "      <td>0.012770</td>\n",
       "      <td>0.036100</td>\n",
       "      <td>1.0</td>\n",
       "    </tr>\n",
       "    <tr>\n",
       "      <th>Actual5</th>\n",
       "      <td>0.015020</td>\n",
       "      <td>0.009486</td>\n",
       "      <td>0.004480</td>\n",
       "      <td>0.035573</td>\n",
       "      <td>0.015547</td>\n",
       "      <td>0.840843</td>\n",
       "      <td>0.021871</td>\n",
       "      <td>0.006324</td>\n",
       "      <td>0.030567</td>\n",
       "      <td>0.020290</td>\n",
       "      <td>1.0</td>\n",
       "    </tr>\n",
       "    <tr>\n",
       "      <th>Actual6</th>\n",
       "      <td>0.007252</td>\n",
       "      <td>0.003384</td>\n",
       "      <td>0.003626</td>\n",
       "      <td>0.000000</td>\n",
       "      <td>0.006285</td>\n",
       "      <td>0.016437</td>\n",
       "      <td>0.954798</td>\n",
       "      <td>0.001209</td>\n",
       "      <td>0.007010</td>\n",
       "      <td>0.000000</td>\n",
       "      <td>1.0</td>\n",
       "    </tr>\n",
       "    <tr>\n",
       "      <th>Actual7</th>\n",
       "      <td>0.005453</td>\n",
       "      <td>0.003408</td>\n",
       "      <td>0.012043</td>\n",
       "      <td>0.004317</td>\n",
       "      <td>0.006135</td>\n",
       "      <td>0.001818</td>\n",
       "      <td>0.001136</td>\n",
       "      <td>0.922745</td>\n",
       "      <td>0.001363</td>\n",
       "      <td>0.041581</td>\n",
       "      <td>1.0</td>\n",
       "    </tr>\n",
       "    <tr>\n",
       "      <th>Actual8</th>\n",
       "      <td>0.010091</td>\n",
       "      <td>0.022889</td>\n",
       "      <td>0.009599</td>\n",
       "      <td>0.029535</td>\n",
       "      <td>0.002707</td>\n",
       "      <td>0.026089</td>\n",
       "      <td>0.009353</td>\n",
       "      <td>0.004922</td>\n",
       "      <td>0.860202</td>\n",
       "      <td>0.024612</td>\n",
       "      <td>1.0</td>\n",
       "    </tr>\n",
       "    <tr>\n",
       "      <th>Actual9</th>\n",
       "      <td>0.007402</td>\n",
       "      <td>0.005253</td>\n",
       "      <td>0.004059</td>\n",
       "      <td>0.015521</td>\n",
       "      <td>0.027459</td>\n",
       "      <td>0.004059</td>\n",
       "      <td>0.000239</td>\n",
       "      <td>0.035339</td>\n",
       "      <td>0.013849</td>\n",
       "      <td>0.886819</td>\n",
       "      <td>1.0</td>\n",
       "    </tr>\n",
       "  </tbody>\n",
       "</table>\n",
       "</div>"
      ],
      "text/plain": [
       "         Predicted0  Predicted1  Predicted2  Predicted3  Predicted4  \\\n",
       "Actual0    0.970474    0.000242    0.002662    0.002178    0.001694   \n",
       "Actual1    0.000000    0.966909    0.005124    0.005337    0.000640   \n",
       "Actual2    0.007661    0.006464    0.887718    0.017716    0.016040   \n",
       "Actual3    0.006435    0.006435    0.022294    0.873362    0.000230   \n",
       "Actual4    0.002701    0.005403    0.007122    0.001719    0.918959   \n",
       "Actual5    0.015020    0.009486    0.004480    0.035573    0.015547   \n",
       "Actual6    0.007252    0.003384    0.003626    0.000000    0.006285   \n",
       "Actual7    0.005453    0.003408    0.012043    0.004317    0.006135   \n",
       "Actual8    0.010091    0.022889    0.009599    0.029535    0.002707   \n",
       "Actual9    0.007402    0.005253    0.004059    0.015521    0.027459   \n",
       "\n",
       "         Predicted5  Predicted6  Predicted7  Predicted8  Predicted9  Total  \n",
       "Actual0    0.007744    0.008712    0.000968    0.005082    0.000242    1.0  \n",
       "Actual1    0.004483    0.001921    0.001494    0.013237    0.000854    1.0  \n",
       "Actual2    0.005267    0.016758    0.012210    0.026095    0.004070    1.0  \n",
       "Actual3    0.037233    0.007125    0.008504    0.022753    0.015629    1.0  \n",
       "Actual4    0.001473    0.009086    0.004666    0.012770    0.036100    1.0  \n",
       "Actual5    0.840843    0.021871    0.006324    0.030567    0.020290    1.0  \n",
       "Actual6    0.016437    0.954798    0.001209    0.007010    0.000000    1.0  \n",
       "Actual7    0.001818    0.001136    0.922745    0.001363    0.041581    1.0  \n",
       "Actual8    0.026089    0.009353    0.004922    0.860202    0.024612    1.0  \n",
       "Actual9    0.004059    0.000239    0.035339    0.013849    0.886819    1.0  "
      ]
     },
     "execution_count": 54,
     "metadata": {},
     "output_type": "execute_result"
    }
   ],
   "source": [
    "norm_conf_mx"
   ]
  },
  {
   "cell_type": "code",
   "execution_count": 55,
   "metadata": {},
   "outputs": [
    {
     "data": {
      "text/plain": [
       "<matplotlib.image.AxesImage at 0x20c8fc2c240>"
      ]
     },
     "execution_count": 55,
     "metadata": {},
     "output_type": "execute_result"
    },
    {
     "data": {
      "image/png": "[encoded data removed]",
      "text/plain": [
       "<matplotlib.figure.Figure at 0x20c9da3bb70>"
      ]
     },
     "metadata": {},
     "output_type": "display_data"
    }
   ],
   "source": [
    "norm_conf_mx_array = np.array(norm_conf_mx.iloc[:,:-1])\n",
    "np.fill_diagonal(norm_conf_mx_array,0)\n",
    "plt.matshow(norm_conf_mx_array,cmap=plt.cm.gray)"
   ]
  },
  {
   "cell_type": "markdown",
   "metadata": {},
   "source": [
    "## Multilabel Classification"
   ]
  },
  {
   "cell_type": "code",
   "execution_count": 56,
   "metadata": {},
   "outputs": [
    {
     "data": {
      "text/plain": [
       "array([[False,  True],\n",
       "       [False, False],\n",
       "       [False, False],\n",
       "       ..., \n",
       "       [False, False],\n",
       "       [ True,  True],\n",
       "       [False,  True]], dtype=bool)"
      ]
     },
     "execution_count": 56,
     "metadata": {},
     "output_type": "execute_result"
    }
   ],
   "source": [
    "#predicting multiple labels in one class\n",
    "from sklearn.neighbors import KNeighborsClassifier\n",
    "\n",
    "y_train_large = (y_train>=7)\n",
    "y_train_odd = (y_train % 2 ==1)\n",
    "y_multilabel = np.c_[y_train_large,y_train_odd]\n",
    "y_multilabel"
   ]
  },
  {
   "cell_type": "code",
   "execution_count": 57,
   "metadata": {},
   "outputs": [
    {
     "data": {
      "text/plain": [
       "array([[False, False]], dtype=bool)"
      ]
     },
     "execution_count": 57,
     "metadata": {},
     "output_type": "execute_result"
    }
   ],
   "source": [
    "knn_clf = KNeighborsClassifier()\n",
    "knn_clf.fit(X_train,y_multilabel)\n",
    "knn_clf.predict([some_digit])"
   ]
  },
  {
   "cell_type": "markdown",
   "metadata": {},
   "source": [
    "## Multioutput Classification"
   ]
  },
  {
   "cell_type": "code",
   "execution_count": 108,
   "metadata": {
    "collapsed": true
   },
   "outputs": [],
   "source": [
    "#to clean an image(a label can have multiple values in this case(0 to 255))\n",
    "noise = np.random.randint(0,100,X_train.shape)\n",
    "X_train_mod = X_train + noise\n",
    "noise = np.random.randint(0,100,X_test.shape)\n",
    "X_test_mod = X_test + noise\n",
    "y_train_mod = X_train\n",
    "y_test_mod =X_test"
   ]
  },
  {
   "cell_type": "code",
   "execution_count": 113,
   "metadata": {},
   "outputs": [],
   "source": [
    "some_digit = X_test_mod.iloc[30,:]\n",
    "some_digit_image = some_digit.values.reshape(28,28)"
   ]
  },
  {
   "cell_type": "code",
   "execution_count": 114,
   "metadata": {},
   "outputs": [
    {
     "data": {
      "text/plain": [
       "<matplotlib.image.AxesImage at 0x20c91aca470>"
      ]
     },
     "execution_count": 114,
     "metadata": {},
     "output_type": "execute_result"
    },
    {
     "data": {
      "image/png": "[encoded data removed]",
      "text/plain": [
       "<matplotlib.figure.Figure at 0x20c902714e0>"
      ]
     },
     "metadata": {},
     "output_type": "display_data"
    }
   ],
   "source": [
    "plt.imshow(some_digit_image,cmap = matplotlib.cm.binary,interpolation = 'nearest')"
   ]
  },
  {
   "cell_type": "code",
   "execution_count": 115,
   "metadata": {},
   "outputs": [
    {
     "data": {
      "text/plain": [
       "<matplotlib.image.AxesImage at 0x20c8fef1710>"
      ]
     },
     "execution_count": 115,
     "metadata": {},
     "output_type": "execute_result"
    },
    {
     "data": {
      "image/png": "[encoded data removed]",
      "text/plain": [
       "<matplotlib.figure.Figure at 0x20c8ff7a710>"
      ]
     },
     "metadata": {},
     "output_type": "display_data"
    }
   ],
   "source": [
    "some_digit = y_test_mod.iloc[30,:]\n",
    "some_digit_image = some_digit.values.reshape(28,28)\n",
    "plt.imshow(some_digit_image,cmap = matplotlib.cm.binary,interpolation = 'nearest')"
   ]
  },
  {
   "cell_type": "code",
   "execution_count": 116,
   "metadata": {},
   "outputs": [
    {
     "data": {
      "text/plain": [
       "KNeighborsClassifier(algorithm='auto', leaf_size=30, metric='minkowski',\n",
       "           metric_params=None, n_jobs=1, n_neighbors=5, p=2,\n",
       "           weights='uniform')"
      ]
     },
     "execution_count": 116,
     "metadata": {},
     "output_type": "execute_result"
    }
   ],
   "source": [
    "knn_clf.fit(X_train_mod,y_train_mod)"
   ]
  },
  {
   "cell_type": "code",
   "execution_count": 123,
   "metadata": {},
   "outputs": [
    {
     "data": {
      "text/plain": [
       "<matplotlib.image.AxesImage at 0x20c8fe64b38>"
      ]
     },
     "execution_count": 123,
     "metadata": {},
     "output_type": "execute_result"
    },
    {
     "data": {
      "image/png": "[encoded data removed]",
      "text/plain": [
       "<matplotlib.figure.Figure at 0x20c8fdba518>"
      ]
     },
     "metadata": {},
     "output_type": "display_data"
    }
   ],
   "source": [
    "clean_digit.reshape(28,28)\n",
    "plt.imshow(clean_digit.reshape(28,28),cmap = matplotlib.cm.binary,interpolation = 'nearest')"
   ]
  },
  {
   "cell_type": "code",
   "execution_count": null,
   "metadata": {
    "collapsed": true
   },
   "outputs": [],
   "source": []
  }
 ],
 "metadata": {
  "kernelspec": {
   "display_name": "Python [default]",
   "language": "python",
   "name": "python3"
  },
  "language_info": {
   "codemirror_mode": {
    "name": "ipython",
    "version": 3
   },
   "file_extension": ".py",
   "mimetype": "text/x-python",
   "name": "python",
   "nbconvert_exporter": "python",
   "pygments_lexer": "ipython3",
   "version": "3.6.4"
  }
 },
 "nbformat": 4,
 "nbformat_minor": 2
}
